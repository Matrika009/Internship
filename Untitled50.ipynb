{
 "cells": [
  {
   "cell_type": "markdown",
   "id": "0886ad84",
   "metadata": {},
   "source": [
    "1. Write a Python program to replace all occurrences of a space, comma, or dot with a colon.\n",
    "Sample Text- 'Python Exercises, PHP exercises.'\n",
    "Expected Output: Python:Exercises::PHP:exercises:\n"
   ]
  },
  {
   "cell_type": "code",
   "execution_count": 42,
   "id": "399cd82c",
   "metadata": {},
   "outputs": [
    {
     "name": "stdout",
     "output_type": "stream",
     "text": [
      "Python:Exercises::PHP:exercises:\n"
     ]
    }
   ],
   "source": [
    "import re\n",
    "def dfxn1(x):\n",
    "    \n",
    "    replaced_x = x.replace(' ', ':').replace(',', ':').replace('.', ':')\n",
    "    return replaced_x\n",
    "\n",
    "inp1 = 'Python Exercises, PHP exercises.'\n",
    "result = dfxn1(inp1)\n",
    "\n",
    "print(result)"
   ]
  },
  {
   "cell_type": "markdown",
   "id": "b3695260",
   "metadata": {},
   "source": [
    "2. Write a Python program to find all words starting with 'a' or 'e' in a given string."
   ]
  },
  {
   "cell_type": "code",
   "execution_count": 2,
   "id": "6633c497",
   "metadata": {},
   "outputs": [
    {
     "name": "stdout",
     "output_type": "stream",
     "text": [
      "Enter the stringHow are you\n",
      "['are']\n"
     ]
    }
   ],
   "source": [
    "import re\n",
    "\n",
    "def dfxn1(a1):\n",
    "    pattern = re.compile(r'\\b[aeAE]\\w*\\b')\n",
    "    matches = pattern.findall(a1)\n",
    "    return matches\n",
    "\n",
    "inp1 = input(\"Enter the string\")\n",
    "x = dfxn1(inp1)\n",
    "print(x)\n"
   ]
  },
  {
   "cell_type": "markdown",
   "id": "6048d5e8",
   "metadata": {},
   "source": [
    "3. Create a function in python to find all words that are at least 4 characters long in a string. The use of the re.compile() method is mandatory."
   ]
  },
  {
   "cell_type": "code",
   "execution_count": 3,
   "id": "2346433d",
   "metadata": {},
   "outputs": [
    {
     "name": "stdout",
     "output_type": "stream",
     "text": [
      "Enter the stringI have a book\n",
      "['have', 'book']\n"
     ]
    }
   ],
   "source": [
    "import re\n",
    "\n",
    "def dfxn1(a1):\n",
    "    pattern = re.compile(r'\\b\\w{4,}\\b')\n",
    "    matches = pattern.findall(a1)\n",
    "    return matches\n",
    "\n",
    "inp1 = input(\"Enter the string\")\n",
    "x = dfxn1(inp1)\n",
    "print(x)\n"
   ]
  },
  {
   "cell_type": "markdown",
   "id": "ce8bb14e",
   "metadata": {},
   "source": [
    "Question 4- Create a function in python to find all three, four, and five character words in a string. The use of the re.compile() method is mandatory."
   ]
  },
  {
   "cell_type": "code",
   "execution_count": 4,
   "id": "a79a67b3",
   "metadata": {},
   "outputs": [
    {
     "name": "stdout",
     "output_type": "stream",
     "text": [
      "Enter the stringi have a the book named holist\n",
      "['have', 'the', 'book', 'named']\n"
     ]
    }
   ],
   "source": [
    "import re\n",
    "\n",
    "def dfxn1(a1):\n",
    "    pattern = re.compile(r'\\b\\w{3,5}\\b')\n",
    "    matches = pattern.findall(a1)\n",
    "    return matches\n",
    "\n",
    "inp1 = input(\"Enter the string\")\n",
    "x = dfxn1(inp1)\n",
    "print(x)\n"
   ]
  },
  {
   "cell_type": "markdown",
   "id": "a85673c3",
   "metadata": {},
   "source": [
    "Question 5- Create a function in Python to remove the parenthesis in a list of strings. The use of the re.compile() method is mandatory.\n",
    "Sample Text: [\"example (.com)\", \"hr@fliprobo (.com)\", \"github (.com)\", \"Hello (Data Science World)\", \"Data (Scientist)\"]\n",
    "Expected Output:\n",
    "example.com\n",
    "hr@fliprobo.com\n",
    "github.com\n",
    "Hello Data Science World\n",
    "Data Scientist\n"
   ]
  },
  {
   "cell_type": "code",
   "execution_count": 5,
   "id": "a59dfb14",
   "metadata": {},
   "outputs": [
    {
     "name": "stdout",
     "output_type": "stream",
     "text": [
      "example \n",
      "hr@fliprobo \n",
      "github \n",
      "Hello \n",
      "Data \n"
     ]
    }
   ],
   "source": [
    "def dfxn1(a1):\n",
    "    pattern = re.compile(r'\\([^)]*\\)')\n",
    "    matches = [pattern.sub('', x) for x in a1]\n",
    "    return matches\n",
    "\n",
    "inp1 = [\"example (.com)\", \"hr@fliprobo (.com)\", \"github (.com)\", \"Hello (Data Science World)\", \"Data (Scientist)\"]\n",
    "x = dfxn1(inp1)\n",
    "for z in x:\n",
    "    print(z)\n"
   ]
  },
  {
   "cell_type": "markdown",
   "id": "0d9138ea",
   "metadata": {},
   "source": [
    "Question 6- Write a python program to remove the parenthesis area from the text stored in the text file using Regular Expression.\n",
    "Sample Text: [\"example (.com)\", \"hr@fliprobo (.com)\", \"github (.com)\", \"Hello (Data Science World)\", \"Data (Scientist)\"]\n",
    "Expected Output: [\"example\", \"hr@fliprobo\", \"github\", \"Hello\", \"Data\"]"
   ]
  },
  {
   "cell_type": "code",
   "execution_count": 6,
   "id": "f0498947",
   "metadata": {},
   "outputs": [
    {
     "name": "stdout",
     "output_type": "stream",
     "text": [
      "['example ', 'hr@fliprobo ', 'github ', 'Hello ', 'Data ']\n"
     ]
    }
   ],
   "source": [
    "import re\n",
    "\n",
    "def dfxn1(a1):\n",
    "    pattern = re.compile(r'\\([^)]*\\)')\n",
    "    matches = [pattern.sub('', x) for x in a1]\n",
    "    return matches\n",
    "\n",
    "inp1 = [\"example (.com)\", \"hr@fliprobo (.com)\", \"github (.com)\", \"Hello (Data Science World)\", \"Data (Scientist)\"]\n",
    "\n",
    "modified_text = dfxn1(inp1)\n",
    "print(modified_text)\n"
   ]
  },
  {
   "cell_type": "markdown",
   "id": "2a9c678a",
   "metadata": {},
   "source": [
    "Question 7- Write a regular expression in Python to split a string into uppercase letters.\n",
    "Sample text: “ImportanceOfRegularExpressionsInPython”\n",
    "Expected Output: [‘Importance’, ‘Of’, ‘Regular’, ‘Expression’, ‘In’, ‘Python’]\n"
   ]
  },
  {
   "cell_type": "code",
   "execution_count": 7,
   "id": "0533e943",
   "metadata": {},
   "outputs": [
    {
     "name": "stdout",
     "output_type": "stream",
     "text": [
      "['Importance', 'Of', 'Regular', 'Expressions', 'In', 'Python']\n"
     ]
    }
   ],
   "source": [
    "import re\n",
    "\n",
    "def dfxn1(a1):\n",
    "    matches = re.findall('[A-Z][a-z]*', a1)\n",
    "    return matches\n",
    "\n",
    "inp1 = \"ImportanceOfRegularExpressionsInPython\"\n",
    "\n",
    "output = dfxn1(inp1)\n",
    "print(output)\n"
   ]
  },
  {
   "cell_type": "markdown",
   "id": "57da7da0",
   "metadata": {},
   "source": [
    "Question 8- Create a function in python to insert spaces between words starting with numbers.\n",
    "Sample Text: “RegularExpression1IsAn2ImportantTopic3InPython\"\n",
    "Expected Output: RegularExpression 1IsAn 2ImportantTopic 3InPython\n"
   ]
  },
  {
   "cell_type": "code",
   "execution_count": 8,
   "id": "017b01ce",
   "metadata": {},
   "outputs": [
    {
     "name": "stdout",
     "output_type": "stream",
     "text": [
      "RegularExpression1 IsAn2 ImportantTopic3 InPython\n"
     ]
    }
   ],
   "source": [
    "import re\n",
    "\n",
    "def dfxn1(a1):\n",
    "    matches = re.sub(r'(?<=[0-9])(?=[A-Za-z])', ' ', a1)\n",
    "    return matches\n",
    "\n",
    "inp1 = \"RegularExpression1IsAn2ImportantTopic3InPython\"\n",
    "output = dfxn1(inp1)\n",
    "print(output)\n"
   ]
  },
  {
   "cell_type": "markdown",
   "id": "86d51b7a",
   "metadata": {},
   "source": [
    "Question 9- Create a function in python to insert spaces between words starting with capital letters or with numbers.\n",
    "Sample Text: “RegularExpression1IsAn2ImportantTopic3InPython\"\n",
    "Expected Output:  RegularExpression 1 IsAn 2 ImportantTopic 3 InPython\n"
   ]
  },
  {
   "cell_type": "code",
   "execution_count": 30,
   "id": "914fcb65",
   "metadata": {},
   "outputs": [
    {
     "name": "stdout",
     "output_type": "stream",
     "text": [
      "Regular Expression 1Is An 2Important Topic 3In Python\n"
     ]
    }
   ],
   "source": [
    "import re\n",
    "\n",
    "def dfxn1(inp1):\n",
    "    pattern = r'(?<=[a-z])([A-Z0-9])'\n",
    "    result = re.sub(pattern, r' \\1', inp1)\n",
    "    return result\n",
    "\n",
    "inp1 = \"RegularExpression1IsAn2ImportantTopic3InPython\"\n",
    "x = dfxn1(inp1)\n",
    "print(x)\n"
   ]
  },
  {
   "cell_type": "markdown",
   "id": "25d657ea",
   "metadata": {},
   "source": [
    "Question 10- Write a python program to extract email address from the text stored in the text file using Regular Expression.\n",
    "Sample Text- Hello my name is Data Science and my email address is xyz@domain.com and alternate email address is xyz.abc@sdomain.domain.com. \n",
    "Please contact us at hr@fliprobo.com for further information. \n",
    "Expected Output: \n",
    "['xyz@domain.com', 'xyz.abc@sdomain.domain.com']\n",
    "['hr@fliprobo.com']\n",
    "\n",
    "Note- Store given sample text in the text file and then extract email addresses.\n"
   ]
  },
  {
   "cell_type": "code",
   "execution_count": null,
   "id": "5ac894ca",
   "metadata": {},
   "outputs": [],
   "source": []
  },
  {
   "cell_type": "markdown",
   "id": "c044c2c2",
   "metadata": {},
   "source": [
    "Question 11- Write a Python program to match a string that contains only upper and lowercase letters, numbers, and underscores."
   ]
  },
  {
   "cell_type": "code",
   "execution_count": 27,
   "id": "1fb36ade",
   "metadata": {},
   "outputs": [
    {
     "name": "stdout",
     "output_type": "stream",
     "text": [
      "Enter the stringsdswe\n",
      "OK\n"
     ]
    }
   ],
   "source": [
    "import re\n",
    "\n",
    "def dfxn1(a1):\n",
    "    pattern = r'^[a-zA-Z0-9_]+$'\n",
    "    if re.match(pattern, a1):\n",
    "        return True\n",
    "    else:\n",
    "        return False\n",
    "\n",
    "inp1 = input(\"Enter the string\")\n",
    "if dfxn1(inp1):\n",
    "    print(\"OK\")\n",
    "else:\n",
    "    print(\"Not OK\")\n"
   ]
  },
  {
   "cell_type": "markdown",
   "id": "220f8446",
   "metadata": {},
   "source": [
    "Question 12- Write a Python program where a string will start with a specific number. "
   ]
  },
  {
   "cell_type": "code",
   "execution_count": 26,
   "id": "84f55ba1",
   "metadata": {},
   "outputs": [
    {
     "name": "stdout",
     "output_type": "stream",
     "text": [
      "Enter the number to be matched12 is a here\n",
      "Enter the string\n",
      "Number is not found\n"
     ]
    }
   ],
   "source": [
    "import re\n",
    "\n",
    "def dfxn(a,b):\n",
    "    pattern = r'^' + re.escape(a)\n",
    "    if re.match(pattern,b):\n",
    "        print(\"Number found\")\n",
    "    else:\n",
    "        print(\"Number is not found\")\n",
    "    \n",
    "\n",
    "inp1 = input(\"Enter the number to be matched\")\n",
    "inp2 = input(\"Enter the string\")\n",
    "\n",
    "x= dfxn(inp1,inp2)\n"
   ]
  },
  {
   "cell_type": "markdown",
   "id": "2f5363d8",
   "metadata": {},
   "source": [
    "Question 13- Write a Python program to remove leading zeros from an IP address"
   ]
  },
  {
   "cell_type": "code",
   "execution_count": 25,
   "id": "fc355958",
   "metadata": {},
   "outputs": [
    {
     "name": "stdout",
     "output_type": "stream",
     "text": [
      "Enter the IP add10:100:0055:0009\n",
      "10:100:55:9\n"
     ]
    }
   ],
   "source": [
    "import re\n",
    "\n",
    "def ipadd(y):\n",
    "    x = r'\\b0+(\\d+)\\b'\n",
    "    result = re.sub(x, r'\\1', y)\n",
    "    return result\n",
    "\n",
    "ipinpt = input(\"Enter the IP add\")\n",
    "shrtip = ipadd(ipinpt)\n",
    "print(shrtip)\n"
   ]
  },
  {
   "cell_type": "markdown",
   "id": "5c2cf2ea",
   "metadata": {},
   "source": [
    "Question 14- Write a regular expression in python to match a date string in the form of Month name followed by day number and year stored in a text file.\n",
    "Sample text :  ' On August 15th 1947 that India was declared independent from British colonialism, and the reins of control were handed over to the leaders of the Country’.\n",
    "Expected Output- August 15th 1947\n",
    "Note- Store given sample text in the text file and then extract the date string asked format.\n"
   ]
  },
  {
   "cell_type": "code",
   "execution_count": null,
   "id": "7e09e068",
   "metadata": {},
   "outputs": [],
   "source": []
  },
  {
   "cell_type": "markdown",
   "id": "23326137",
   "metadata": {},
   "source": [
    "Question 15- Write a Python program to search some literals strings in a string. \n",
    "Sample text : 'The quick brown fox jumps over the lazy dog.'\n",
    "Searched words : 'fox', 'dog', 'horse'\n"
   ]
  },
  {
   "cell_type": "code",
   "execution_count": 24,
   "id": "f6730ff9",
   "metadata": {},
   "outputs": [
    {
     "name": "stdout",
     "output_type": "stream",
     "text": [
      "Found words: fox, dog\n"
     ]
    }
   ],
   "source": [
    "import re\n",
    "\n",
    "def dfxn1(a1,a2):\n",
    "    lst=[]\n",
    "    \n",
    "    for x in a2:\n",
    "        pattern = re.compile(re.escape(x))\n",
    "        if pattern.search(a1):\n",
    "            lst.append(x)\n",
    "    \n",
    "    return lst\n",
    "\n",
    "inp1 =  'The quick brown fox jumps over the lazy dog.'\n",
    "inp2 = ['fox', 'dog', 'horse']\n",
    "output = dfxn1(inp1,inp2)\n",
    "\n",
    "if output:\n",
    "     print(f\"Found words: {', '.join(output)}\")\n",
    "else:\n",
    "    print(\"No words found.\")\n"
   ]
  },
  {
   "cell_type": "markdown",
   "id": "c20027fd",
   "metadata": {},
   "source": [
    "Question 16- Write a Python program to search a literals string in a string and also find the location within the original string where the pattern occurs\n",
    "Sample text : 'The quick brown fox jumps over the lazy dog.'\n",
    "Searched words : 'fox'\n"
   ]
  },
  {
   "cell_type": "code",
   "execution_count": null,
   "id": "dc0c9a90",
   "metadata": {},
   "outputs": [],
   "source": [
    "\n"
   ]
  },
  {
   "cell_type": "markdown",
   "id": "412fd754",
   "metadata": {},
   "source": [
    "Question 17- Write a Python program to find the substrings within a string.\n",
    "Sample text : 'Python exercises, PHP exercises, C# exercises'\n",
    "Pattern : 'exercises'.\n"
   ]
  },
  {
   "cell_type": "code",
   "execution_count": 22,
   "id": "800fe62b",
   "metadata": {},
   "outputs": [
    {
     "name": "stdout",
     "output_type": "stream",
     "text": [
      "Found: exercises\n"
     ]
    }
   ],
   "source": [
    "import re\n",
    "sampletext = 'Python exercises, PHP exercises, C# exercises'\n",
    "pattern = 'exercises'\n",
    "x = re.findall(pattern, sampletext)\n",
    "if pattern in x:\n",
    "    print(f\"Found: {pattern}\")\n",
    "else:\n",
    "    print(\"No match found\")\n"
   ]
  },
  {
   "cell_type": "markdown",
   "id": "af529374",
   "metadata": {},
   "source": [
    "Question 18- Write a Python program to find the occurrence and position of the substrings within a string."
   ]
  },
  {
   "cell_type": "code",
   "execution_count": 20,
   "id": "199a519c",
   "metadata": {},
   "outputs": [
    {
     "name": "stdout",
     "output_type": "stream",
     "text": [
      "Found: exercises, Occurence: 3\n",
      "Found: exercises at 7\n",
      "Found: exercises at 22\n",
      "Found: exercises at 36\n"
     ]
    }
   ],
   "source": [
    "import re\n",
    "sampletext = 'Python exercises, PHP exercises, C# exercises'\n",
    "pattern = 'exercises'\n",
    "x = re.findall(pattern, sampletext)\n",
    "if pattern in x:\n",
    "    print(f\"Found: {pattern}, Occurence: {len(x)}\")\n",
    "else:\n",
    "    print(\"No match found\")  \n",
    "\n",
    "    \n",
    "y = re.finditer(pattern, sampletext)\n",
    "for aa in y:\n",
    "    print(f\"Found: {pattern} at {aa.start()}\")\n"
   ]
  },
  {
   "cell_type": "markdown",
   "id": "3d537161",
   "metadata": {},
   "source": [
    "Question 19- Write a Python program to convert a date of yyyy-mm-dd format to dd-mm-yyyy format."
   ]
  },
  {
   "cell_type": "code",
   "execution_count": 41,
   "id": "09610181",
   "metadata": {},
   "outputs": [
    {
     "name": "stdout",
     "output_type": "stream",
     "text": [
      "yyyy-mm-dd format: 2000-12-09\n",
      "09-12-2000\n"
     ]
    }
   ],
   "source": [
    "import re\n",
    "\n",
    "def dfxn1(y):\n",
    "    return re.match(r'(\\d{4})-(\\d{2})-(\\d{2})', y)\n",
    "\n",
    "inp1 = input(\"yyyy-mm-dd format: \")\n",
    "x = dfxn1(inp1)\n",
    "if x:\n",
    "    year, month, day = x.groups()\n",
    "    \n",
    "    ndate = f\"{day}-{month}-{year}\"\n",
    "\n",
    "    print(ndate)\n"
   ]
  },
  {
   "cell_type": "markdown",
   "id": "9bc9d51d",
   "metadata": {},
   "source": [
    "Question 20- Create a function in python to find all decimal numbers with a precision of 1 or 2 in a string. The use of the re.compile() method is mandatory.\n",
    "Sample Text: \"01.12 0132.123 2.31875 145.8 3.01 27.25 0.25\"\n",
    "Expected Output: ['01.12', '145.8', '3.01', '27.25', '0.25']\n"
   ]
  },
  {
   "cell_type": "code",
   "execution_count": 19,
   "id": "0af5eb6a",
   "metadata": {},
   "outputs": [
    {
     "name": "stdout",
     "output_type": "stream",
     "text": [
      "['01.12', '145.8', '3.01', '27.25', '0.25']\n"
     ]
    }
   ],
   "source": [
    "import re\n",
    "\n",
    "def dfxn1(y):\n",
    "    return re.findall(re.compile(r'\\b\\d+\\.\\d{1,2}\\b'), y)\n",
    "\n",
    "inp1 = \"01.12 0132.123 2.31875 145.8 3.01 27.25 0.25\"\n",
    "x = dfxn1(inp1)\n",
    "print(x)\n"
   ]
  },
  {
   "cell_type": "markdown",
   "id": "a50e6a35",
   "metadata": {},
   "source": [
    "Question 21- Write a Python program to separate and print the numbers and their position of a given string."
   ]
  },
  {
   "cell_type": "code",
   "execution_count": 18,
   "id": "17387327",
   "metadata": {},
   "outputs": [
    {
     "name": "stdout",
     "output_type": "stream",
     "text": [
      "Enter the stringis 5 less than 2\n",
      " Number is 5 and its position is 3\n",
      " Number is 2 and its position is 15\n"
     ]
    }
   ],
   "source": [
    "import re\n",
    "\n",
    "def dfxn1(y):\n",
    "    req = re.finditer(r'\\d+', y)\n",
    "    for _ in req:\n",
    "        a1 = _.group()\n",
    "        a2 = _.start()\n",
    "        print(f\" Number is {a1} and its position is {a2}\")\n",
    "\n",
    "inp1 = input(\"Enter the string\")\n",
    "x = dfxn1(inp1)\n"
   ]
  },
  {
   "cell_type": "markdown",
   "id": "f33b218b",
   "metadata": {},
   "source": [
    "Question 22- Write a regular expression in python program to extract maximum/largest numeric value from a string.\n",
    "Sample Text:  'My marks in each semester are: 947, 896, 926, 524, 734, 950, 642'\n",
    "Expected Output: 950\n"
   ]
  },
  {
   "cell_type": "code",
   "execution_count": 16,
   "id": "1a05c237",
   "metadata": {},
   "outputs": [
    {
     "name": "stdout",
     "output_type": "stream",
     "text": [
      "950\n"
     ]
    }
   ],
   "source": [
    "import re\n",
    "\n",
    "def dfxn1(inp1):\n",
    "    result = re.findall(r'\\d+', inp1)\n",
    "    return max(map(int, result))\n",
    "\n",
    "inp1 = 'My marks in each semester are: 947, 896, 926, 524, 734, 950, 642'\n",
    "x = dfxn1(inp1)\n",
    "print(x)\n"
   ]
  },
  {
   "cell_type": "markdown",
   "id": "21fc7b1c",
   "metadata": {},
   "source": [
    "Question 23- Create a function in python to insert spaces between words starting with capital letters.\n",
    "Sample Text: “RegularExpressionIsAnImportantTopicInPython\"\n",
    "Expected Output: Regular Expression Is An Important Topic In Python\n"
   ]
  },
  {
   "cell_type": "code",
   "execution_count": 15,
   "id": "f6fcfbb7",
   "metadata": {},
   "outputs": [
    {
     "name": "stdout",
     "output_type": "stream",
     "text": [
      " Regular Expression Is An Important Topic In Python\n"
     ]
    }
   ],
   "source": [
    "import re\n",
    "\n",
    "def dfxn1(y):\n",
    "    return re.sub(r'([A-Z])', r' \\1', y)\n",
    "\n",
    "inp1 = \"RegularExpressionIsAnImportantTopicInPython\"\n",
    "x = dfxn1(inp1)\n",
    "print(x)\n"
   ]
  },
  {
   "cell_type": "markdown",
   "id": "8aa0a56a",
   "metadata": {},
   "source": [
    "Question 24- Python regex to find sequences of one upper case letter followed by lower case letters"
   ]
  },
  {
   "cell_type": "code",
   "execution_count": 14,
   "id": "40ee3159",
   "metadata": {},
   "outputs": [
    {
     "name": "stdout",
     "output_type": "stream",
     "text": [
      "Enter the stringHeolo how\n",
      "['Heolo']\n"
     ]
    }
   ],
   "source": [
    "import re\n",
    "\n",
    "def dfxn1(y):\n",
    "    return re.findall(r'[A-Z][a-z]+', y)\n",
    "\n",
    "inp1 = input(\"Enter the string\")\n",
    "x = dfxn1(inp1)\n",
    "print(x)\n"
   ]
  },
  {
   "cell_type": "markdown",
   "id": "2c1a5264",
   "metadata": {},
   "source": [
    "Question 25- Write a Python program to remove continuous duplicate words from Sentence using Regular Expression.\n",
    "Sample Text: \"Hello hello world world\"\n",
    "Expected Output: Hello hello world\n"
   ]
  },
  {
   "cell_type": "code",
   "execution_count": 13,
   "id": "1cf8e1c5",
   "metadata": {},
   "outputs": [
    {
     "name": "stdout",
     "output_type": "stream",
     "text": [
      "Hello hello world\n"
     ]
    }
   ],
   "source": [
    "import re\n",
    "\n",
    "def dfxn1(y):\n",
    "    return re.sub(r'\\b(\\w+)\\s+\\1\\b', r'\\1', y)\n",
    "\n",
    "inp1 = \"Hello hello world world\"\n",
    "x = dfxn1(inp1)\n",
    "print(x)\n"
   ]
  },
  {
   "cell_type": "markdown",
   "id": "d3510e0a",
   "metadata": {},
   "source": [
    "Question 26-  Write a python program using RegEx to accept string ending with alphanumeric character."
   ]
  },
  {
   "cell_type": "code",
   "execution_count": 12,
   "id": "4de33d36",
   "metadata": {},
   "outputs": [
    {
     "name": "stdout",
     "output_type": "stream",
     "text": [
      "Enter the stringhello0\n",
      "It has alphanumeric value\n"
     ]
    }
   ],
   "source": [
    "import re\n",
    "\n",
    "def dfxn1(y):\n",
    "    return re.match(r'.*[a-zA-Z0-9]$',y)\n",
    "\n",
    "inp1 = input(\"Enter the string\")\n",
    "if dfxn1(inp1):\n",
    "    print(\"It has alphanumeric value\")\n",
    "else:\n",
    "    print(\"It has no alphanumeric value\")\n"
   ]
  },
  {
   "cell_type": "markdown",
   "id": "2364b0a1",
   "metadata": {},
   "source": [
    "Question 27-Write a python program using RegEx to extract the hashtags.\n",
    "Sample Text:  \"\"\"RT @kapil_kausik: #Doltiwal I mean #xyzabc is \"hurt\" by #Demonetization as the same has rendered USELESS <ed><U+00A0><U+00BD><ed><U+00B1><U+0089> \"acquired funds\" No wo\"\"\"\n",
    "Expected Output: ['#Doltiwal', '#xyzabc', '#Demonetization']\n"
   ]
  },
  {
   "cell_type": "code",
   "execution_count": 11,
   "id": "c7c1343a",
   "metadata": {},
   "outputs": [
    {
     "name": "stdout",
     "output_type": "stream",
     "text": [
      "['#Doltiwal', '#xyzabc', '#Demonetization']\n"
     ]
    }
   ],
   "source": [
    "import re\n",
    "\n",
    "def dfxn1(y):\n",
    "    return re.findall(r'#\\w+', y)\n",
    "\n",
    "inp1 = \"\"\"RT @kapil_kausik: #Doltiwal I mean #xyzabc is \"hurt\" by #Demonetization as the same has rendered USELESS <ed><U+00A0><U+00BD><ed><U+00B1><U+0089> \"acquired funds\" No wo\"\"\"\n",
    "x = dfxn1(inp1)\n",
    "print(x)\n"
   ]
  },
  {
   "cell_type": "markdown",
   "id": "c0bf0259",
   "metadata": {},
   "source": [
    "Question 28- Write a python program using RegEx to remove <U+..> like symbols\n",
    "Check the below sample text, there are strange symbols something of the sort <U+..> all over the place. You need to come up with a general Regex expression that will cover all such symbols.\n",
    "Sample Text: \"@Jags123456 Bharat band on 28??<ed><U+00A0><U+00BD><ed><U+00B8><U+0082>Those who  are protesting #demonetization  are all different party leaders\"\n",
    "Expected Output: @Jags123456 Bharat band on 28??<ed><ed>Those who  are protesting #demonetization  are all different party leaders\n"
   ]
  },
  {
   "cell_type": "code",
   "execution_count": 10,
   "id": "a14e18f7",
   "metadata": {},
   "outputs": [
    {
     "name": "stdout",
     "output_type": "stream",
     "text": [
      "@Jags123456 Bharat band on 28??<ed><ed>Those who  are protesting #demonetization  are all different party leaders\n"
     ]
    }
   ],
   "source": [
    "import re\n",
    "\n",
    "def dfxn1(y):\n",
    "    return re.sub(r'<U\\+\\w{4}>', '', y)\n",
    "\n",
    "inp1 = \"@Jags123456 Bharat band on 28??<ed><U+00A0><U+00BD><ed><U+00B8><U+0082>Those who  are protesting #demonetization  are all different party leaders\"\n",
    "x = dfxn1(inp1)\n",
    "print(x)\n"
   ]
  },
  {
   "cell_type": "markdown",
   "id": "019cf825",
   "metadata": {},
   "source": [
    "Question 29- Write a python program to extract dates from the text stored in the text file.\n",
    "Sample Text: Ron was born on 12-09-1992 and he was admitted to school 15-12-1999.\n",
    "Note- Store this sample text in the file and then extract dates.\n"
   ]
  },
  {
   "cell_type": "code",
   "execution_count": 38,
   "id": "3a320356",
   "metadata": {},
   "outputs": [
    {
     "name": "stdout",
     "output_type": "stream",
     "text": [
      "12-09-1992\n",
      "15-12-1999\n"
     ]
    }
   ],
   "source": [
    "import re\n",
    "\n",
    "with open('sample_text.txt', 'r') as file:\n",
    "    x = file.read()\n",
    "extract_d = re.findall(r'\\d{2}-\\d{2}-\\d{4}', x)\n",
    "\n",
    "for y in extract_d:\n",
    "    print(y)"
   ]
  },
  {
   "cell_type": "markdown",
   "id": "06f81d23",
   "metadata": {},
   "source": [
    "Question 30- Create a function in python to remove all words from a string of length between 2 and 4.\n",
    "The use of the re.compile() method is mandatory.\n",
    "Sample Text: \"The following example creates an ArrayList with a capacity of 50 elements. 4 elements are then added to the ArrayList and the ArrayList is trimmed accordingly.\"\n",
    "Expected Output:  following example creates ArrayList a capacity elements. 4 elements added ArrayList ArrayList trimmed accordingly.\n"
   ]
  },
  {
   "cell_type": "code",
   "execution_count": 9,
   "id": "2f519431",
   "metadata": {},
   "outputs": [
    {
     "name": "stdout",
     "output_type": "stream",
     "text": [
      " following example creates  ArrayList  a capacity   elements. 4 elements   added   ArrayList   ArrayList  trimmed accordingly.\n"
     ]
    }
   ],
   "source": [
    "import re\n",
    "\n",
    "def dfxn1(y):\n",
    "    req = re.compile(r'\\b\\w{2,4}\\b')\n",
    "    return req.sub('', y)\n",
    "\n",
    "inp1 = \"The following example creates an ArrayList with a capacity of 50 elements. 4 elements are then added to the ArrayList and the ArrayList is trimmed accordingly.\"\n",
    "x = dfxn1(inp1)\n",
    "print(x)\n"
   ]
  }
 ],
 "metadata": {
  "kernelspec": {
   "display_name": "Python 3 (ipykernel)",
   "language": "python",
   "name": "python3"
  },
  "language_info": {
   "codemirror_mode": {
    "name": "ipython",
    "version": 3
   },
   "file_extension": ".py",
   "mimetype": "text/x-python",
   "name": "python",
   "nbconvert_exporter": "python",
   "pygments_lexer": "ipython3",
   "version": "3.10.9"
  }
 },
 "nbformat": 4,
 "nbformat_minor": 5
}
